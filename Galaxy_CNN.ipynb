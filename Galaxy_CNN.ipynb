{
  "nbformat": 4,
  "nbformat_minor": 0,
  "metadata": {
    "colab": {
      "name": "Galaxy_CNN",
      "provenance": []
    },
    "kernelspec": {
      "name": "python3",
      "display_name": "Python 3"
    }
  },
  "cells": [
    {
      "cell_type": "markdown",
      "metadata": {
        "id": "zfLUqpP9R8tl",
        "colab_type": "text"
      },
      "source": [
        "# 패키지 불러오기"
      ]
    },
    {
      "cell_type": "code",
      "metadata": {
        "id": "OV-4QdFI80K8",
        "colab_type": "code",
        "colab": {}
      },
      "source": [
        "# 패키지 불러오기\n",
        "\n",
        "import numpy as np\n",
        "from keras.models import Sequential\n",
        "from keras.layers import Dense,Flatten\n",
        "from keras.layers.convolutional import Conv2D,MaxPooling2D\n",
        "from keras.preprocessing.image import ImageDataGenerator"
      ],
      "execution_count": 0,
      "outputs": []
    },
    {
      "cell_type": "markdown",
      "metadata": {
        "id": "GT2t55TtSrsV",
        "colab_type": "text"
      },
      "source": [
        "## Convolution을 사용하는 이유: Filter를 사용하여 특성을 추출 할 수 있다.\n",
        "\n",
        "##Filter수를 적절하게 늘리면 특성 표현이 더 정확해 지며 loss가 줄고 acc가 오를 수 있다.\n",
        "\n",
        "#### ex) 눈 주변을 보고 사람의 눈임을 인식할 수 있다(Feature map)\n",
        "\n",
        "##### **Sequential모델**: 네트워크에서 Input과 Output이 1개인 보델로 층을 차례대로 쌓는 모델\n",
        "\n",
        "##### **Dense**: 네트워크에서 가장 기본적으로 이용되는 층이며 입력층과 출력층을 연결 시켜 준다\n",
        "\n",
        "##### **Conv2D**: 이미지에서 Filter를 이용하여 주요 특성을 뽑아내어 새로운 2차원 데이터를 만든다\n",
        "\n",
        "##### **MaxPooling2D**: 레이어의 출력 이미지에서 주요한 값만을 뽑아 지역적인 사소한 변화가 영향을 주지 않도록 한다\n",
        "\n",
        "##### **Flatten**: Conv2D와 MaxPooling2D를 거쳐 만들어진 2차원 데이터를 Dense층에 연결 하기 위하여 1차원 데이터로 변경\n",
        "\n"
      ]
    },
    {
      "cell_type": "code",
      "metadata": {
        "id": "2ZvP3x5jN3FR",
        "colab_type": "code",
        "colab": {
          "base_uri": "https://localhost:8080/",
          "height": 506
        },
        "outputId": "f16a6722-ac21-4fa7-fdf0-179a6da7a788"
      },
      "source": [
        "from IPython.display import Image\n",
        "\n",
        "\n",
        "Image('/content/1.JPG')"
      ],
      "execution_count": 4,
      "outputs": [
        {
          "output_type": "execute_result",
          "data": {
            "image/jpeg": "[encoded data removed]",
            "text/plain": [
              "<IPython.core.display.Image object>"
            ]
          },
          "metadata": {
            "tags": []
          },
          "execution_count": 4
        }
      ]
    },
    {
      "cell_type": "markdown",
      "metadata": {
        "id": "VlO54sjqYZah",
        "colab_type": "text"
      },
      "source": [
        "# ImageDataGenerator 이용한 이미지 생성"
      ]
    },
    {
      "cell_type": "markdown",
      "metadata": {
        "id": "tRx9z4ckYxp0",
        "colab_type": "text"
      },
      "source": [
        "##### ImageDataGenerator를 사용하는 이유\n",
        "사진을 읽은후\n",
        "JPEG 콘텐츠를 RGB 픽셀값으로 디코딩하고\n",
        "\n",
        "부동소수 타입의 텐서로 변환합니다\n",
        "또한 픽셀 값 (0~255)의 스케일을 [0,1]로 값을 조정할 수 있습니다\n",
        "\n",
        "신경망은 작은 입력값으로 전처리 되어야 한다"
      ]
    },
    {
      "cell_type": "code",
      "metadata": {
        "id": "HP96JASkUrkm",
        "colab_type": "code",
        "colab": {}
      },
      "source": [
        "# 랜덤시드 고정\n",
        "\n",
        "np.random.seed(3)\n",
        "\n",
        "# 데이터 생성\n",
        "\n",
        "# generator로 호출 된 함수는 flow_from_directory\n",
        "# 3종류의 이미지를 분류하는 것이기 때문에 batch_size는 3\n",
        "# 다중 클래스 분류 문제이기 때문에 @D one-hot 부호화 된 라벨이 반환되는 class_mode='categorical'이 들어간다\n",
        "\n",
        "train_datagen=ImageDataGenerator(rescale=1./255)\n",
        "train_generator=train_datagen.flow_from_directory(\n",
        "    train_dir,\n",
        "    target_image=(50,50),\n",
        "    batch_size=3,\n",
        "    class_mode='categorical'\n",
        ")\n",
        "\n",
        "validation_datagen=ImageDataGenerator(rescale=1./255)\n",
        "validation_generator=validation_datagen.flow_from_directory(\n",
        "    validation_dir,\n",
        "    target_size=(50,50),\n",
        "    batch_size=3,\n",
        "    class_mode='categorical'\n",
        ")\n",
        "\n",
        "test_datagen=ImageDataGenerator(rescale=1./255)\n",
        "test_generator=test_datagen.flow_from_directory(\n",
        "    test_dir,\n",
        "    target_size=(50,50),\n",
        "    batch_size=3,\n",
        "    class_mode='categorical'\n",
        ")"
      ],
      "execution_count": 0,
      "outputs": []
    },
    {
      "cell_type": "markdown",
      "metadata": {
        "id": "lKIsRTtVc0RB",
        "colab_type": "text"
      },
      "source": [
        "# 모델 구성"
      ]
    },
    {
      "cell_type": "code",
      "metadata": {
        "id": "SXafyz5Gc2a1",
        "colab_type": "code",
        "colab": {
          "base_uri": "https://localhost:8080/",
          "height": 377
        },
        "outputId": "66dfb0d7-de19-48b5-8e06-8ff9bd943da5"
      },
      "source": [
        "model=Sequential()\n",
        "\n",
        "\n",
        "model.add(Conv2D(32,(3,3),activation='relu',padding='same',input_shape=(50,50,3)))  # Conv2D Filter수32개,kernel=(3,3),input 이미지는 RGB의 50*50\n",
        "model.add(MaxPooling2D(2,2))\n",
        "model.add(Conv2D(64,(3,3),padding='same',activation='relu'))\n",
        "model.add(Flatten())\n",
        "model.add(Dense(128,activation='relu'))\n",
        "model.add(Dense(3,activation='softmax'))\n",
        "\n",
        "model.summary()"
      ],
      "execution_count": 9,
      "outputs": [
        {
          "output_type": "stream",
          "text": [
            "Model: \"sequential_5\"\n",
            "_________________________________________________________________\n",
            "Layer (type)                 Output Shape              Param #   \n",
            "=================================================================\n",
            "conv2d_8 (Conv2D)            (None, 50, 50, 32)        896       \n",
            "_________________________________________________________________\n",
            "max_pooling2d_6 (MaxPooling2 (None, 25, 25, 32)        0         \n",
            "_________________________________________________________________\n",
            "conv2d_9 (Conv2D)            (None, 25, 25, 64)        18496     \n",
            "_________________________________________________________________\n",
            "flatten_4 (Flatten)          (None, 40000)             0         \n",
            "_________________________________________________________________\n",
            "dense_7 (Dense)              (None, 128)               5120128   \n",
            "_________________________________________________________________\n",
            "dense_8 (Dense)              (None, 3)                 387       \n",
            "=================================================================\n",
            "Total params: 5,139,907\n",
            "Trainable params: 5,139,907\n",
            "Non-trainable params: 0\n",
            "_________________________________________________________________\n"
          ],
          "name": "stdout"
        }
      ]
    },
    {
      "cell_type": "markdown",
      "metadata": {
        "id": "UVmKUwQDfYQh",
        "colab_type": "text"
      },
      "source": [
        "### relu:sigmoid 함수는 학습을 할수록 가중치가 0에 가까워 지기 때문에 학습이 잘 안되는 현상이 발생하므로 Hidden layer에 relu 함수가 자주 사용된다\n",
        "\n",
        "### softmax: 다중 분류 문제에서 출력층에서 확률이 가장 높은 Class가 출력이 된다"
      ]
    },
    {
      "cell_type": "markdown",
      "metadata": {
        "id": "GG3q35eFf4-Q",
        "colab_type": "text"
      },
      "source": [
        "# 모델 학습"
      ]
    },
    {
      "cell_type": "code",
      "metadata": {
        "id": "mHYQtHZ7dmuc",
        "colab_type": "code",
        "colab": {}
      },
      "source": [
        "model.compile(optimizer='adam',loss='categorical_crossentropy',metrics=['acc'])\n",
        "\n",
        "# loss는 train data에서 올바른 방법으로 학습하도록 학습하도록 도와준다\n",
        "# optimizer는 loss를 줄이기위한 backpropagation weight를 주어 loss를 줄이고 acc를 높이고자 한다.\n",
        "# 최적화된 weight를 찾는것 이다"
      ],
      "execution_count": 0,
      "outputs": []
    },
    {
      "cell_type": "markdown",
      "metadata": {
        "id": "bxsNvoZtglZg",
        "colab_type": "text"
      },
      "source": [
        "# 모델 학습시키기"
      ]
    },
    {
      "cell_type": "code",
      "metadata": {
        "id": "tf1neyH4f27K",
        "colab_type": "code",
        "colab": {
          "base_uri": "https://localhost:8080/",
          "height": 244
        },
        "outputId": "956d2f60-09bc-440a-bd71-89f4cdc03430"
      },
      "source": [
        "# train image 개수 10233개 validation image 개수 200장 test image 200장\n",
        "\n",
        "hist=model.fit_generator(\n",
        "    train_generator,\n",
        "    steps_per_epoch=3411,\n",
        "    epochs=50,\n",
        "    validation_data=validation_generator,\n",
        "    validation_steps=200\n",
        ")\n",
        "\n",
        "# 모델평가\n",
        "\n",
        "print('------Evaluate--------')\n",
        "scores=model.evaluate_generator(test_generator,steps=200)\n",
        "\n",
        "print('%s:%.2f%%' %(model.metrics_names[1],scores[1]*100))"
      ],
      "execution_count": 13,
      "outputs": [
        {
          "output_type": "error",
          "ename": "NameError",
          "evalue": "ignored",
          "traceback": [
            "\u001b[0;31m---------------------------------------------------------------------------\u001b[0m",
            "\u001b[0;31mNameError\u001b[0m                                 Traceback (most recent call last)",
            "\u001b[0;32m<ipython-input-13-b628743536d5>\u001b[0m in \u001b[0;36m<module>\u001b[0;34m()\u001b[0m\n\u001b[1;32m      1\u001b[0m \u001b[0;34m\u001b[0m\u001b[0m\n\u001b[1;32m      2\u001b[0m hist=model.fit_generator(\n\u001b[0;32m----> 3\u001b[0;31m     \u001b[0mtrain_generator\u001b[0m\u001b[0;34m,\u001b[0m\u001b[0;34m\u001b[0m\u001b[0;34m\u001b[0m\u001b[0m\n\u001b[0m\u001b[1;32m      4\u001b[0m     \u001b[0msteps_per_epoch\u001b[0m\u001b[0;34m=\u001b[0m\u001b[0;36m3411\u001b[0m\u001b[0;34m,\u001b[0m\u001b[0;34m\u001b[0m\u001b[0;34m\u001b[0m\u001b[0m\n\u001b[1;32m      5\u001b[0m     \u001b[0mepochs\u001b[0m\u001b[0;34m=\u001b[0m\u001b[0;36m50\u001b[0m\u001b[0;34m,\u001b[0m\u001b[0;34m\u001b[0m\u001b[0;34m\u001b[0m\u001b[0m\n",
            "\u001b[0;31mNameError\u001b[0m: name 'train_generator' is not defined"
          ]
        }
      ]
    },
    {
      "cell_type": "code",
      "metadata": {
        "id": "pt9NdIy2h0O7",
        "colab_type": "code",
        "colab": {}
      },
      "source": [
        ""
      ],
      "execution_count": 0,
      "outputs": []
    }
  ]
}